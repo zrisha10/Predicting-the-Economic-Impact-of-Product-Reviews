{
  "metadata": {
    "kernelspec": {
      "name": "python",
      "display_name": "Python (Pyodide)",
      "language": "python"
    },
    "language_info": {
      "codemirror_mode": {
        "name": "python",
        "version": 3
      },
      "file_extension": ".py",
      "mimetype": "text/x-python",
      "name": "python",
      "nbconvert_exporter": "python",
      "pygments_lexer": "ipython3",
      "version": "3.8"
    },
    "anaconda-cloud": {}
  },
  "nbformat_minor": 4,
  "nbformat": 4,
  "cells": [
    {
      "cell_type": "code",
      "source": "# import required packages \nfrom gensim.models import Word2Vec, word2vec # word2vector model\nimport logging\nimport matplotlib.pyplot as plt\n# for inline plot \n%matplotlib inline \nimport nltk\nimport numpy as np\nfrom nltk.corpus import stopwords\nimport numpy as np\nimport os\nimport pandas as pd\nimport seaborn as sns\nfrom sklearn.ensemble import RandomForestClassifier # Random forest\nfrom sklearn.feature_extraction.text import CountVectorizer, TfidfTransformer\nfrom sklearn.metrics import classification_report, confusion_matrix, roc_auc_score, roc_curve #metrics\nfrom sklearn.pipeline import Pipeline\nimport sqlite3\nimport re\nfrom tqdm import tqdm\nimport os",
      "metadata": {
        "collapsed": false,
        "jupyter": {
          "outputs_hidden": false
        }
      },
      "outputs": [],
      "execution_count": 13
    },
    {
      "cell_type": "markdown",
      "source": "# Summerises processing steps below\n- Pre processing Data\n    - Review Analysis : Identify Good/Bad Reviews\n    - Create Training and Test datsets \n- Classification using Random Forest + word2vec\n    - Traning word2vec model\n    - Random Forest classifier using the word embedding information from word2vec model\n    - Performance metrics for Random Forest + word2vec\n",
      "metadata": {}
    },
    {
      "cell_type": "markdown",
      "source": "## 1. Preprocessing Data",
      "metadata": {}
    },
    {
      "cell_type": "code",
      "source": "# Load the punkt tokenizer used for splitting reviews into sentences\n# if you donot have the required NLTK model/data you can downlaod them using nltk.download() interface\ntokenizer = nltk.data.load('tokenizers/punkt/english.pickle')",
      "metadata": {
        "collapsed": false,
        "jupyter": {
          "outputs_hidden": false
        }
      },
      "outputs": [],
      "execution_count": 12
    },
    {
      "cell_type": "markdown",
      "source": "### 1.1 Review Analysis : Identify Good/Bad Reviews",
      "metadata": {}
    },
    {
      "cell_type": "code",
      "source": "program_dir = os.getcwd()\ndata_folder = program_dir + \"\\database\\database.sqlite\"\n#print(data_folder)\nconnection = sqlite3.connect(data_folder)\nreviews = pd.read_sql_query(\"\"\"SELECT * FROM Reviews WHERE Score != 3\"\"\", connection)\nconnection.close()",
      "metadata": {
        "collapsed": false,
        "jupyter": {
          "outputs_hidden": false
        }
      },
      "outputs": [],
      "execution_count": 22
    },
    {
      "cell_type": "code",
      "source": "# Frequency distribution, histogram  \nreviews.hist('Score')",
      "metadata": {
        "collapsed": false,
        "jupyter": {
          "outputs_hidden": false
        }
      },
      "outputs": [
        {
          "data": {
            "text/plain": [
              "array([[<matplotlib.axes._subplots.AxesSubplot object at 0x0000025A03B7FE48>]], dtype=object)"
            ]
          },
          "execution_count": 27,
          "metadata": {},
          "output_type": "execute_result"
        },
        {
          "data": {
            "image/png": "[encoded data removed]",
            "text/plain": [
              "<matplotlib.figure.Figure at 0x25a031e6c50>"
            ]
          },
          "metadata": {},
          "output_type": "display_data"
        }
      ],
      "execution_count": 27
    },
    {
      "cell_type": "code",
      "source": "#Review are heavily skewed towards the score of 5\nreviews['Class'] = 1 * (reviews['Score'] > 3)\nreviews.head(n=2)",
      "metadata": {
        "collapsed": false,
        "jupyter": {
          "outputs_hidden": false
        }
      },
      "outputs": [
        {
          "data": {
            "text/html": [
              "<div>\n",
              "<style>\n",
              "    .dataframe thead tr:only-child th {\n",
              "        text-align: right;\n",
              "    }\n",
              "\n",
              "    .dataframe thead th {\n",
              "        text-align: left;\n",
              "    }\n",
              "\n",
              "    .dataframe tbody tr th {\n",
              "        vertical-align: top;\n",
              "    }\n",
              "</style>\n",
              "<table border=\"1\" class=\"dataframe\">\n",
              "  <thead>\n",
              "    <tr style=\"text-align: right;\">\n",
              "      <th></th>\n",
              "      <th>Id</th>\n",
              "      <th>ProductId</th>\n",
              "      <th>UserId</th>\n",
              "      <th>ProfileName</th>\n",
              "      <th>HelpfulnessNumerator</th>\n",
              "      <th>HelpfulnessDenominator</th>\n",
              "      <th>Score</th>\n",
              "      <th>Time</th>\n",
              "      <th>Summary</th>\n",
              "      <th>Text</th>\n",
              "      <th>Class</th>\n",
              "    </tr>\n",
              "  </thead>\n",
              "  <tbody>\n",
              "    <tr>\n",
              "      <th>0</th>\n",
              "      <td>1</td>\n",
              "      <td>B001E4KFG0</td>\n",
              "      <td>A3SGXH7AUHU8GW</td>\n",
              "      <td>delmartian</td>\n",
              "      <td>1</td>\n",
              "      <td>1</td>\n",
              "      <td>5</td>\n",
              "      <td>1303862400</td>\n",
              "      <td>Good Quality Dog Food</td>\n",
              "      <td>I have bought several of the Vitality canned d...</td>\n",
              "      <td>1</td>\n",
              "    </tr>\n",
              "    <tr>\n",
              "      <th>1</th>\n",
              "      <td>2</td>\n",
              "      <td>B00813GRG4</td>\n",
              "      <td>A1D87F6ZCVE5NK</td>\n",
              "      <td>dll pa</td>\n",
              "      <td>0</td>\n",
              "      <td>0</td>\n",
              "      <td>1</td>\n",
              "      <td>1346976000</td>\n",
              "      <td>Not as Advertised</td>\n",
              "      <td>Product arrived labeled as Jumbo Salted Peanut...</td>\n",
              "      <td>0</td>\n",
              "    </tr>\n",
              "  </tbody>\n",
              "</table>\n",
              "</div>"
            ],
            "text/plain": [
              "   Id   ProductId          UserId ProfileName  HelpfulnessNumerator  \\\n",
              "0   1  B001E4KFG0  A3SGXH7AUHU8GW  delmartian                     1   \n",
              "1   2  B00813GRG4  A1D87F6ZCVE5NK      dll pa                     0   \n",
              "\n",
              "   HelpfulnessDenominator  Score        Time                Summary  \\\n",
              "0                       1      5  1303862400  Good Quality Dog Food   \n",
              "1                       0      1  1346976000      Not as Advertised   \n",
              "\n",
              "                                                Text  Class  \n",
              "0  I have bought several of the Vitality canned d...      1  \n",
              "1  Product arrived labeled as Jumbo Salted Peanut...      0  "
            ]
          },
          "execution_count": 26,
          "metadata": {},
          "output_type": "execute_result"
        }
      ],
      "execution_count": 26
    },
    {
      "cell_type": "markdown",
      "source": "### 1.2 Create Training and Test datsets",
      "metadata": {}
    },
    {
      "cell_type": "code",
      "source": "reviews.sort_values('ProductId', axis=0, inplace=True)\n\ntrain_size = int(len(reviews) * 0.5)\ntrain_reviews = reviews.iloc[:train_size,:]\ntest_reviews = reviews.iloc[train_size:,:]\n\ntest_remove = np.logical_or(test_reviews['ProductId'].isin(train_reviews['ProductId']),\n                          test_reviews['UserId'].isin(train_reviews['UserId']))\ntest_reviews = test_reviews[np.logical_not(test_remove)]",
      "metadata": {
        "collapsed": true,
        "jupyter": {
          "outputs_hidden": true
        }
      },
      "outputs": [],
      "execution_count": 28
    },
    {
      "cell_type": "code",
      "source": "# Print and verify the dataset deatils before proceeding further\nprint('Training set contains {:d} reviews.'.format(len(train_reviews)))\nprint('Test set contains {:d} reviews ({:d} removed).'.format(len(test_reviews), sum(test_remove)))\n\nn_pos_train = sum(train_reviews['Class'] == 1)\nprint('Training set contains {:.2%} positive reviews'.format(n_pos_train/len(train_reviews)))\nn_pos_test = sum(test_reviews['Class'] == 1)\nprint('Test set contains {:.2%} positive reviews'.format(n_pos_test/len(test_reviews)))",
      "metadata": {
        "collapsed": false,
        "jupyter": {
          "outputs_hidden": false
        }
      },
      "outputs": [
        {
          "name": "stdout",
          "output_type": "stream",
          "text": [
            "Training set contains 262907 reviews.\n",
            "Test set contains 151198 reviews (111709 removed).\n",
            "Training set contains 84.93% positive reviews\n",
            "Test set contains 82.37% positive reviews\n"
          ]
        }
      ],
      "execution_count": 29
    },
    {
      "cell_type": "markdown",
      "source": "Convert each review in the training set to a list of sentences where each sentence is in turn a list of words. Besides splitting reviews into sentences, non-letters and (optionally) stop words are removed and all words coverted to lower case.",
      "metadata": {}
    },
    {
      "cell_type": "code",
      "source": "def review_to_wordlist(review, remove_stopwords=False):\n    \"\"\"\n    Convert a review to a list of words. Removal of stop words is optional.\n    \"\"\"\n    # remove non-letters\n    review_text = re.sub(\"[^a-zA-Z]\",\" \", review)\n    # convert to lower case and split at whitespace\n    words = review_text.lower().split()\n    # remove stop words (false by default)\n    if remove_stopwords:\n        stops = set(stopwords.words(\"english\"))\n        words = [w for w in words if not w in stops]\n\n    return words\n\ndef review_to_sentences(review, tokenizer, remove_stopwords=False):\n    \"\"\"\n    Split review into list of sentences where each sentence is a list of words.\n    Removal of stop words is optional.\n    \"\"\"\n    # use the NLTK tokenizer to split the paragraph into sentences\n    raw_sentences = tokenizer.tokenize(review.strip())\n    # each sentence is furthermore split into words\n    sentences = []    \n    for raw_sentence in raw_sentences:\n        # If a sentence is empty, skip it\n        if len(raw_sentence) > 0:\n            sentences.append(review_to_wordlist(raw_sentence, remove_stopwords))\n            \n    return sentences",
      "metadata": {
        "collapsed": true,
        "jupyter": {
          "outputs_hidden": true
        }
      },
      "outputs": [],
      "execution_count": 31
    },
    {
      "cell_type": "code",
      "source": "train_sentences = []  # Initialize an empty list of sentences\nfor review in train_reviews['Text']:\n    train_sentences += review_to_sentences(review, tokenizer)",
      "metadata": {
        "collapsed": true,
        "jupyter": {
          "outputs_hidden": true
        }
      },
      "outputs": [],
      "execution_count": 32
    },
    {
      "cell_type": "markdown",
      "source": "## 3. Classification using Random Forest + word2vec",
      "metadata": {}
    },
    {
      "cell_type": "markdown",
      "source": "### 3.1 Traning word2vec model",
      "metadata": {}
    },
    {
      "cell_type": "code",
      "source": "model_name = 'train_model'\n# Set values for various word2vec parameters\nnum_features = 300    # Word vector dimensionality                      \nmin_word_count = 40   # Minimum word count                        \nnum_workers = 3       # Number of threads to run in parallel\ncontext = 10          # Context window size\ndownsampling = 1e-3   # Downsample setting for frequent words\nif not os.path.exists(model_name): \n    # Initialize and train the model (this will take some time)\n    model = word2vec.Word2Vec(train_sentences, workers=num_workers, \\\n                size=num_features, min_count = min_word_count, \\\n                window = context, sample = downsampling)\n\n    # If you don't plan to train the model any further, calling \n    # init_sims will make the model much more memory-efficient.\n    model.init_sims(replace=True)\n\n    # It can be helpful to create a meaningful model name and \n    # save the model for later use. You can load it later using Word2Vec.load()\n    model.save(model_name)\nelse:\n    model = Word2Vec.load(model_name)",
      "metadata": {
        "collapsed": true,
        "jupyter": {
          "outputs_hidden": true
        }
      },
      "outputs": [],
      "execution_count": 65
    },
    {
      "cell_type": "code",
      "source": "model.wv.similar_by_vector(model['house'] - model['kitchen'])",
      "metadata": {
        "collapsed": false,
        "jupyter": {
          "outputs_hidden": false
        }
      },
      "outputs": [
        {
          "name": "stderr",
          "output_type": "stream",
          "text": [
            "C:\\Users\\jxp161430\\AppData\\Local\\Continuum\\Anaconda3\\lib\\site-packages\\ipykernel\\__main__.py:1: DeprecationWarning: Call to deprecated `__getitem__` (Method will be removed in 4.0.0, use self.wv.__getitem__() instead).\n",
            "  if __name__ == '__main__':\n"
          ]
        },
        {
          "data": {
            "text/plain": [
              "[('house', 0.4771435856819153),\n",
              " ('intervals', 0.3224315643310547),\n",
              " ('choo', 0.2692919969558716),\n",
              " ('weimaraner', 0.2502148151397705),\n",
              " ('least', 0.2496238499879837),\n",
              " ('office', 0.24764585494995117),\n",
              " ('petco', 0.24654215574264526),\n",
              " ('gerd', 0.24327412247657776),\n",
              " ('target', 0.2423928827047348),\n",
              " ('costco', 0.23867826163768768)]"
            ]
          },
          "execution_count": 61,
          "metadata": {},
          "output_type": "execute_result"
        }
      ],
      "execution_count": 61
    },
    {
      "cell_type": "code",
      "source": "model.wv.most_similar(\"awesome\")",
      "metadata": {
        "collapsed": false,
        "jupyter": {
          "outputs_hidden": false
        }
      },
      "outputs": [
        {
          "data": {
            "text/plain": [
              "[('amazing', 0.8036275506019592),\n",
              " ('incredible', 0.7612615823745728),\n",
              " ('unbelievable', 0.7226647138595581),\n",
              " ('fantastic', 0.7217581272125244),\n",
              " ('excellent', 0.7166696786880493),\n",
              " ('outstanding', 0.7064791917800903),\n",
              " ('terrific', 0.6885495185852051),\n",
              " ('great', 0.6701348423957825),\n",
              " ('fabulous', 0.6433342695236206),\n",
              " ('exceptional', 0.6241912841796875)]"
            ]
          },
          "execution_count": 62,
          "metadata": {},
          "output_type": "execute_result"
        }
      ],
      "execution_count": 62
    },
    {
      "cell_type": "code",
      "source": "model.wv.most_similar(\"worse\")",
      "metadata": {
        "collapsed": false,
        "jupyter": {
          "outputs_hidden": false
        }
      },
      "outputs": [
        {
          "data": {
            "text/plain": [
              "[('better', 0.612735390663147),\n",
              " ('smarter', 0.5568113327026367),\n",
              " ('nicer', 0.5255180597305298),\n",
              " ('tougher', 0.5231730937957764),\n",
              " ('hotter', 0.5183761119842529),\n",
              " ('tastier', 0.5133669972419739),\n",
              " ('weaker', 0.4961473345756531),\n",
              " ('dryer', 0.4956180453300476),\n",
              " ('sweeter', 0.4921164810657501),\n",
              " ('quicker', 0.49098289012908936)]"
            ]
          },
          "execution_count": 63,
          "metadata": {},
          "output_type": "execute_result"
        }
      ],
      "execution_count": 63
    },
    {
      "cell_type": "code",
      "source": "#classic example for word embedding always\nmodel.wv.most_similar(positive=['woman', 'king'], negative=['man'])",
      "metadata": {
        "collapsed": false,
        "jupyter": {
          "outputs_hidden": false
        }
      },
      "outputs": [
        {
          "data": {
            "text/plain": [
              "[('charles', 0.5089073777198792),\n",
              " ('cavalier', 0.4717809557914734),\n",
              " ('arthur', 0.43065279722213745),\n",
              " ('cocker', 0.4269113540649414),\n",
              " ('springer', 0.4194915294647217),\n",
              " ('spaniel', 0.41420602798461914),\n",
              " ('german', 0.3898002505302429),\n",
              " ('breeder', 0.3746984004974365),\n",
              " ('spaniels', 0.374674916267395),\n",
              " ('greyhound', 0.37258338928222656)]"
            ]
          },
          "execution_count": 64,
          "metadata": {},
          "output_type": "execute_result"
        }
      ],
      "execution_count": 64
    },
    {
      "cell_type": "markdown",
      "source": "### 3.2 Random Forest classifier using the word embedding information from word2vec model\n\nFeature vector  for Random Forest classifier = avg(word embeddings of all words in the review)\n",
      "metadata": {}
    },
    {
      "cell_type": "code",
      "source": "def make_feature_vec(words, model, num_features):\n    \"\"\"\n    Average the word vectors for a set of words\n    \"\"\"\n    feature_vec = np.zeros((num_features,),dtype=\"float32\")  # pre-initialize (for speed)\n    nwords = 0.\n    index2word_set = set(model.wv.index2word)  # words known to the model\n\n    for word in words:\n        if word in index2word_set: \n            nwords = nwords + 1.\n            feature_vec = np.add(feature_vec,model[word])\n    \n    feature_vec = np.divide(feature_vec, nwords)\n    return feature_vec\n\n\ndef get_avg_feature_vecs(reviews, model, num_features):\n    \"\"\"\n    Calculate average feature vectors for all reviews\n    \"\"\"\n    counter = 0.\n    review_feature_vecs = np.zeros((len(reviews),num_features), dtype='float32')  # pre-initialize (for speed)\n    \n    for review in reviews:\n        review_feature_vecs[counter] = make_feature_vec(review, model, num_features)\n        counter = counter + 1.\n    return review_feature_vecs\n\n# calculate average feature vectors for training and test sets\nclean_train_reviews = []\nfor review in train_reviews['Text']:\n    clean_train_reviews.append(review_to_wordlist(review, remove_stopwords=True))\ntrainDataVecs = get_avg_feature_vecs(clean_train_reviews, model, num_features)\n\nclean_test_reviews = []\nfor review in test_reviews['Text']:\n    clean_test_reviews.append(review_to_wordlist(review, remove_stopwords=True))\ntestDataVecs = get_avg_feature_vecs(clean_test_reviews, model, num_features)",
      "metadata": {
        "collapsed": false,
        "jupyter": {
          "outputs_hidden": false
        }
      },
      "outputs": [
        {
          "name": "stderr",
          "output_type": "stream",
          "text": [
            "C:\\Users\\jxp161430\\AppData\\Local\\Continuum\\Anaconda3\\lib\\site-packages\\ipykernel\\__main__.py:12: DeprecationWarning: Call to deprecated `__getitem__` (Method will be removed in 4.0.0, use self.wv.__getitem__() instead).\n",
            "C:\\Users\\jxp161430\\AppData\\Local\\Continuum\\Anaconda3\\lib\\site-packages\\ipykernel\\__main__.py:26: VisibleDeprecationWarning: using a non-integer number instead of an integer will result in an error in the future\n",
            "C:\\Users\\jxp161430\\AppData\\Local\\Continuum\\Anaconda3\\lib\\site-packages\\ipykernel\\__main__.py:14: RuntimeWarning: invalid value encountered in true_divide\n"
          ]
        }
      ],
      "execution_count": 48
    },
    {
      "cell_type": "code",
      "source": "# Fit a random forest to the training data, using 100 trees\nforest = RandomForestClassifier(n_estimators = 100)\n\nprint(\"Fitting a random forest to labeled training data...\")\nforest = forest.fit(trainDataVecs, train_reviews['Class'])",
      "metadata": {
        "collapsed": false,
        "jupyter": {
          "outputs_hidden": false
        }
      },
      "outputs": [
        {
          "name": "stdout",
          "output_type": "stream",
          "text": [
            "Fitting a random forest to labeled training data...\n"
          ]
        }
      ],
      "execution_count": 49
    },
    {
      "cell_type": "code",
      "source": "# remove instances in test set that could not be represented as feature vectors\nnan_indices = list({x for x,y in np.argwhere(np.isnan(testDataVecs))})\nif len(nan_indices) > 0:\n    print('Removing {:d} instances from test set.'.format(len(nan_indices)))\n    testDataVecs = np.delete(testDataVecs, nan_indices, axis=0)\n    test_reviews.drop(test_reviews.iloc[nan_indices, :].index, axis=0, inplace=True)\n    assert testDataVecs.shape[0] == len(test_reviews)",
      "metadata": {
        "collapsed": false,
        "jupyter": {
          "outputs_hidden": false
        }
      },
      "outputs": [
        {
          "name": "stdout",
          "output_type": "stream",
          "text": [
            "Removing 1 instances from test set.\n"
          ]
        }
      ],
      "execution_count": 50
    },
    {
      "cell_type": "markdown",
      "source": "### 3.3 Performance metrics for Random Forest + word2vec",
      "metadata": {}
    },
    {
      "cell_type": "code",
      "source": "print(\"Predicting labels for test data..\")\nresult = forest.predict(testDataVecs)\n\nprobs = forest.predict_proba(testDataVecs)[:, 1]\n\nfpr, tpr, _ = roc_curve(test_reviews['Class'], probs)\nauc = roc_auc_score(test_reviews['Class'], probs)",
      "metadata": {
        "collapsed": false,
        "jupyter": {
          "outputs_hidden": false
        }
      },
      "outputs": [
        {
          "name": "stdout",
          "output_type": "stream",
          "text": [
            "Predicting labels for test data..\n"
          ]
        }
      ],
      "execution_count": 51
    },
    {
      "cell_type": "code",
      "source": "",
      "metadata": {
        "collapsed": true,
        "jupyter": {
          "outputs_hidden": true
        }
      },
      "outputs": [],
      "execution_count": null
    }
  ]
}